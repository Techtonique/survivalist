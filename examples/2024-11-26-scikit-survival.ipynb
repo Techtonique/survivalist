{
 "cells": [
  {
   "cell_type": "code",
   "execution_count": null,
   "metadata": {},
   "outputs": [],
   "source": [
    "!pip uninstall scikit-survival --yes"
   ]
  },
  {
   "cell_type": "code",
   "execution_count": null,
   "metadata": {
    "colab": {
     "base_uri": "https://localhost:8080/"
    },
    "id": "S1mT9jB8ggL9",
    "outputId": "aef37cba-2b59-4b55-820b-9f207e7e7d7f"
   },
   "outputs": [],
   "source": [
    "!pip install ../ --upgrade --no-cache-dir"
   ]
  },
  {
   "cell_type": "code",
   "execution_count": null,
   "metadata": {
    "id": "uIMp-m6VKdUm"
   },
   "outputs": [],
   "source": [
    "import pandas as pd\n",
    "\n",
    "def _encode_categorical_columns(df, categorical_columns=None):\n",
    "    \"\"\"\n",
    "    Automatically identifies categorical columns and applies one-hot encoding.\n",
    "\n",
    "    Parameters:\n",
    "    - df (pd.DataFrame): The input DataFrame with mixed continuous and categorical variables.\n",
    "    - categorical_columns (list): Optional list of column names to treat as categorical.\n",
    "\n",
    "    Returns:\n",
    "    - pd.DataFrame: A new DataFrame with one-hot encoded categorical columns.\n",
    "    \"\"\"\n",
    "    # Automatically identify categorical columns if not provided\n",
    "    if categorical_columns is None:\n",
    "        categorical_columns = df.select_dtypes(include=['object', 'category']).columns.tolist()\n",
    "\n",
    "    # Apply one-hot encoding to the identified categorical columns\n",
    "    df_encoded = pd.get_dummies(df, columns=categorical_columns)\n",
    "\n",
    "    # Convert boolean columns to integer (0 and 1)\n",
    "    bool_columns = df_encoded.select_dtypes(include=['bool']).columns.tolist()\n",
    "    df_encoded[bool_columns] = df_encoded[bool_columns].astype(int)\n",
    "\n",
    "    return df_encoded\n"
   ]
  },
  {
   "cell_type": "code",
   "execution_count": null,
   "metadata": {},
   "outputs": [],
   "source": []
  },
  {
   "cell_type": "code",
   "execution_count": null,
   "metadata": {
    "colab": {
     "base_uri": "https://localhost:8080/"
    },
    "id": "W5WUVP1lt30_",
    "outputId": "a9bba864-31a1-40e6-f511-133f5bd6252c"
   },
   "outputs": [],
   "source": [
    "import matplotlib.pyplot as plt\n",
    "import numpy as np\n",
    "from sksurv.datasets import load_whas500, load_gbsg2, load_veterans_lung_cancer\n",
    "from sksurv.custom import PISurvivalCustom\n",
    "from sksurv.tree import SurvivalTree\n",
    "from sksurv.ensemble import GradientBoostingSurvivalAnalysis, PIComponentwiseGenGradientBoostingSurvivalAnalysis\n",
    "from sklearn.kernel_ridge import KernelRidge\n",
    "from sklearn.linear_model import Ridge, MultiTaskElasticNet, RidgeCV, ElasticNetCV\n",
    "from sklearn.model_selection import train_test_split\n",
    "from sklearn.ensemble import RandomForestRegressor\n",
    "from sklearn.neural_network import MLPRegressor\n",
    "from sksurv.linear_model import CoxPHSurvivalAnalysis\n",
    "from sksurv.metrics import brier_score, integrated_brier_score\n",
    "from time import time\n",
    "import pandas as pd\n",
    "\n",
    "def _encode_categorical_columns(df, categorical_columns=None):\n",
    "    \"\"\"\n",
    "    Automatically identifies categorical columns and applies one-hot encoding.\n",
    "\n",
    "    Parameters:\n",
    "    - df (pd.DataFrame): The input DataFrame with mixed continuous and categorical variables.\n",
    "    - categorical_columns (list): Optional list of column names to treat as categorical.\n",
    "\n",
    "    Returns:\n",
    "    - pd.DataFrame: A new DataFrame with one-hot encoded categorical columns.\n",
    "    \"\"\"\n",
    "    # Automatically identify categorical columns if not provided\n",
    "    if categorical_columns is None:\n",
    "        categorical_columns = df.select_dtypes(include=['object', 'category']).columns.tolist()\n",
    "\n",
    "    # Apply one-hot encoding to the identified categorical columns\n",
    "    df_encoded = pd.get_dummies(df, columns=categorical_columns)\n",
    "\n",
    "    # Convert boolean columns to integer (0 and 1)\n",
    "    bool_columns = df_encoded.select_dtypes(include=['bool']).columns.tolist()\n",
    "    df_encoded[bool_columns] = df_encoded[bool_columns].astype(int)\n",
    "\n",
    "    return df_encoded\n",
    "\n",
    "\n",
    "X, y = load_gbsg2()\n",
    "X = _encode_categorical_columns(X)\n",
    "\n",
    "X_train, X_test, y_train, y_test = train_test_split(X, y, test_size=0.2, random_state=42)\n",
    "\n",
    "from sksurv.nonparametric import kaplan_meier_estimator\n",
    "\n",
    "event_time = [y[1] for y in y_test]\n",
    "event_status = [y[0] for y in y_test]\n",
    "km = kaplan_meier_estimator(event_status, event_time,\n",
    "                            conf_type=\"log-log\")\n",
    "estimator = PISurvivalCustom(regr=RandomForestRegressor())\n",
    "estimator2 = GradientBoostingSurvivalAnalysis()\n",
    "\n",
    "start = time()\n",
    "estimator.fit(X_train, y_train)\n",
    "print(\"Time to fit PIRandomForestRegressor: \", time() - start)\n",
    "start = time()\n",
    "estimator2.fit(X_train, y_train)\n",
    "print(\"Time to fit SurvivalTree: \", time() - start)\n",
    "\n",
    "surv_funcs = estimator.predict_survival_function(X_test.iloc[:1])\n",
    "surv_funcs2 = estimator2.predict_survival_function(X_test.iloc[:1])\n",
    "\n",
    "print(estimator.predict(X_test))\n",
    "print(estimator.score(X_test, y_test))"
   ]
  },
  {
   "cell_type": "code",
   "execution_count": null,
   "metadata": {
    "id": "e97QXsl9XTK5"
   },
   "outputs": [],
   "source": [
    "for fn in surv_funcs.mean:\n",
    "    plt.step(fn.x, fn(fn.x), where=\"post\")\n",
    "    plt.fill_between(fn.x, surv_funcs.lower[0].y, surv_funcs.upper[0].y, alpha=0.25, color=\"lightblue\", step=\"post\")\n",
    "    plt.step(km[0], km[1], where=\"post\", color=\"red\", label=\"Kaplan-Meier\")\n",
    "    plt.fill_between(km[0], km[2][0], km[2][1], alpha=0.25, color=\"pink\", step=\"post\")\n",
    "    plt.ylim(0, 1)\n",
    "    plt.show()\n",
    "\n",
    "\n"
   ]
  },
  {
   "cell_type": "code",
   "execution_count": null,
   "metadata": {},
   "outputs": [],
   "source": [
    "for fn in surv_funcs2:\n",
    "    plt.step(fn.x, fn(fn.x), where=\"post\")\n",
    "    plt.step(km[0], km[1], where=\"post\", color=\"red\", label=\"Kaplan-Meier\")\n",
    "    plt.fill_between(km[0], km[2][0], km[2][1], alpha=0.25, color=\"pink\", step=\"post\")\n",
    "    plt.ylim(0, 1)\n",
    "    plt.show()"
   ]
  },
  {
   "cell_type": "code",
   "execution_count": null,
   "metadata": {},
   "outputs": [],
   "source": [
    "X, y = load_whas500()\n",
    "X = _encode_categorical_columns(X)\n",
    "\n",
    "X_train, X_test, y_train, y_test = train_test_split(X, y, test_size=0.2, random_state=42)\n",
    "\n",
    "event_time = [y[1] for y in y_test]\n",
    "event_status = [y[0] for y in y_test]\n",
    "km = kaplan_meier_estimator(event_status, event_time,\n",
    "                            conf_type=\"log-log\")\n",
    "estimator = PISurvivalCustom(regr=RandomForestRegressor())\n",
    "estimator2 = GradientBoostingSurvivalAnalysis()\n",
    "\n",
    "start = time()\n",
    "estimator.fit(X_train, y_train)\n",
    "print(\"Time to fit PIRandomForestRegressor: \", time() - start)\n",
    "\n",
    "surv_funcs = estimator.predict_survival_function(X_test.iloc[:1])\n",
    "\n",
    "print(estimator.score(X_test, y_test))\n",
    "\n",
    "for fn in surv_funcs.mean:\n",
    "    plt.step(fn.x, fn(fn.x), where=\"post\")\n",
    "    plt.fill_between(fn.x, surv_funcs.lower[0].y, surv_funcs.upper[0].y, alpha=0.25, color=\"lightblue\", step=\"post\")\n",
    "    plt.step(km[0], km[1], where=\"post\", color=\"red\", label=\"Kaplan-Meier\")\n",
    "    plt.fill_between(km[0], km[2][0], km[2][1], alpha=0.25, color=\"pink\", step=\"post\")\n",
    "    plt.ylim(0, 1)\n",
    "    plt.show()"
   ]
  },
  {
   "cell_type": "code",
   "execution_count": null,
   "metadata": {},
   "outputs": [],
   "source": [
    "X, y = load_gbsg2()\n",
    "X = _encode_categorical_columns(X)\n",
    "\n",
    "X_train, X_test, y_train, y_test = train_test_split(X, y, test_size=0.2, random_state=42)\n",
    "\n",
    "from sksurv.nonparametric import kaplan_meier_estimator\n",
    "\n",
    "event_time = [y[1] for y in y_test]\n",
    "event_status = [y[0] for y in y_test]\n",
    "km = kaplan_meier_estimator(event_status, event_time,\n",
    "                            conf_type=\"log-log\")\n",
    "estimator = PIComponentwiseGenGradientBoostingSurvivalAnalysis(regr=RandomForestRegressor(), type_pi=\"kde\")\n",
    "estimator2 = GradientBoostingSurvivalAnalysis()\n",
    "\n",
    "start = time()\n",
    "estimator.fit(X_train, y_train)\n",
    "print(\"Time to fit PIRandomForestRegressor: \", time() - start)\n",
    "start = time()\n",
    "estimator2.fit(X_train, y_train)\n",
    "print(\"Time to fit SurvivalTree: \", time() - start)\n",
    "\n",
    "surv_funcs = estimator.predict_survival_function(X_test.iloc[:1])\n",
    "surv_funcs2 = estimator2.predict_survival_function(X_test.iloc[:1])\n",
    "\n",
    "print(estimator.predict(X_test))\n",
    "print(estimator.score(X_test, y_test))"
   ]
  },
  {
   "cell_type": "code",
   "execution_count": null,
   "metadata": {},
   "outputs": [],
   "source": [
    "X, y = load_whas500()\n",
    "X = _encode_categorical_columns(X)\n",
    "\n",
    "X_train, X_test, y_train, y_test = train_test_split(X, y, test_size=0.2, random_state=42)\n",
    "\n",
    "event_time = [y[1] for y in y_test]\n",
    "event_status = [y[0] for y in y_test]\n",
    "km = kaplan_meier_estimator(event_status, event_time,\n",
    "                            conf_type=\"log-log\")\n",
    "estimator = PIComponentwiseGenGradientBoostingSurvivalAnalysis(regr=RandomForestRegressor(), type_pi=\"bootstrap\")\n",
    "estimator2 = GradientBoostingSurvivalAnalysis()\n",
    "\n",
    "start = time()\n",
    "estimator.fit(X_train, y_train)\n",
    "print(\"Time to fit PIRandomForestRegressor: \", time() - start)\n",
    "\n",
    "surv_funcs = estimator.predict_survival_function(X_test.iloc[:1])\n",
    "\n",
    "print(estimator.score(X_test, y_test))\n",
    "\n",
    "for fn in surv_funcs.mean:\n",
    "    plt.step(fn.x, fn(fn.x), where=\"post\")\n",
    "    plt.fill_between(fn.x, surv_funcs.lower[0].y, surv_funcs.upper[0].y, alpha=0.25, color=\"lightblue\", step=\"post\")\n",
    "    plt.step(km[0], km[1], where=\"post\", color=\"red\", label=\"Kaplan-Meier\")\n",
    "    plt.fill_between(km[0], km[2][0], km[2][1], alpha=0.25, color=\"pink\", step=\"post\")\n",
    "    plt.ylim(0, 1)\n",
    "    plt.show()"
   ]
  },
  {
   "cell_type": "code",
   "execution_count": null,
   "metadata": {},
   "outputs": [],
   "source": []
  }
 ],
 "metadata": {
  "colab": {
   "provenance": []
  },
  "kernelspec": {
   "display_name": "Python 3",
   "name": "python3"
  },
  "language_info": {
   "codemirror_mode": {
    "name": "ipython",
    "version": 3
   },
   "file_extension": ".py",
   "mimetype": "text/x-python",
   "name": "python",
   "nbconvert_exporter": "python",
   "pygments_lexer": "ipython3",
   "version": "3.12.1"
  }
 },
 "nbformat": 4,
 "nbformat_minor": 0
}
